{
 "cells": [
  {
   "cell_type": "code",
   "execution_count": 62,
   "metadata": {},
   "outputs": [],
   "source": [
    "import numpy as np                     \n",
    "\n",
    "import pandas as pd\n",
    "pd.set_option('mode.chained_assignment', None)      # To suppress pandas warnings.\n",
    "pd.set_option('display.max_colwidth', None)         # To display all the data in each column\n",
    "pd.set_option('display.max_columns', None)          # To display every column of the dataset in head()\n",
    "\n",
    "import warnings\n",
    "warnings.filterwarnings('ignore')                   # To suppress all the warnings in the notebook."
   ]
  },
  {
   "cell_type": "code",
   "execution_count": 63,
   "metadata": {},
   "outputs": [],
   "source": [
    "drug=pd.read_csv('drug_train.csv')"
   ]
  },
  {
   "cell_type": "code",
   "execution_count": 64,
   "metadata": {},
   "outputs": [
    {
     "data": {
      "text/html": [
       "<div>\n",
       "<style scoped>\n",
       "    .dataframe tbody tr th:only-of-type {\n",
       "        vertical-align: middle;\n",
       "    }\n",
       "\n",
       "    .dataframe tbody tr th {\n",
       "        vertical-align: top;\n",
       "    }\n",
       "\n",
       "    .dataframe thead th {\n",
       "        text-align: right;\n",
       "    }\n",
       "</style>\n",
       "<table border=\"1\" class=\"dataframe\">\n",
       "  <thead>\n",
       "    <tr style=\"text-align: right;\">\n",
       "      <th></th>\n",
       "      <th>Id</th>\n",
       "      <th>Age</th>\n",
       "      <th>Sex</th>\n",
       "      <th>BP</th>\n",
       "      <th>Cholesterol</th>\n",
       "      <th>Na_to_K</th>\n",
       "      <th>Drug</th>\n",
       "    </tr>\n",
       "  </thead>\n",
       "  <tbody>\n",
       "    <tr>\n",
       "      <th>0</th>\n",
       "      <td>79</td>\n",
       "      <td>32</td>\n",
       "      <td>F</td>\n",
       "      <td>LOW</td>\n",
       "      <td>NORMAL</td>\n",
       "      <td>10.840</td>\n",
       "      <td>drugX</td>\n",
       "    </tr>\n",
       "    <tr>\n",
       "      <th>1</th>\n",
       "      <td>197</td>\n",
       "      <td>52</td>\n",
       "      <td>M</td>\n",
       "      <td>NORMAL</td>\n",
       "      <td>HIGH</td>\n",
       "      <td>9.894</td>\n",
       "      <td>drugX</td>\n",
       "    </tr>\n",
       "    <tr>\n",
       "      <th>2</th>\n",
       "      <td>38</td>\n",
       "      <td>39</td>\n",
       "      <td>F</td>\n",
       "      <td>NORMAL</td>\n",
       "      <td>NORMAL</td>\n",
       "      <td>9.709</td>\n",
       "      <td>drugX</td>\n",
       "    </tr>\n",
       "    <tr>\n",
       "      <th>3</th>\n",
       "      <td>24</td>\n",
       "      <td>33</td>\n",
       "      <td>F</td>\n",
       "      <td>LOW</td>\n",
       "      <td>HIGH</td>\n",
       "      <td>33.486</td>\n",
       "      <td>DrugY</td>\n",
       "    </tr>\n",
       "    <tr>\n",
       "      <th>4</th>\n",
       "      <td>122</td>\n",
       "      <td>34</td>\n",
       "      <td>M</td>\n",
       "      <td>NORMAL</td>\n",
       "      <td>HIGH</td>\n",
       "      <td>22.456</td>\n",
       "      <td>DrugY</td>\n",
       "    </tr>\n",
       "  </tbody>\n",
       "</table>\n",
       "</div>"
      ],
      "text/plain": [
       "    Id  Age Sex      BP Cholesterol  Na_to_K   Drug\n",
       "0   79   32   F     LOW      NORMAL   10.840  drugX\n",
       "1  197   52   M  NORMAL        HIGH    9.894  drugX\n",
       "2   38   39   F  NORMAL      NORMAL    9.709  drugX\n",
       "3   24   33   F     LOW        HIGH   33.486  DrugY\n",
       "4  122   34   M  NORMAL        HIGH   22.456  DrugY"
      ]
     },
     "execution_count": 64,
     "metadata": {},
     "output_type": "execute_result"
    }
   ],
   "source": [
    "drug.head()"
   ]
  },
  {
   "cell_type": "code",
   "execution_count": 65,
   "metadata": {},
   "outputs": [
    {
     "name": "stdout",
     "output_type": "stream",
     "text": [
      "<class 'pandas.core.frame.DataFrame'>\n",
      "RangeIndex: 160 entries, 0 to 159\n",
      "Data columns (total 7 columns):\n",
      " #   Column       Non-Null Count  Dtype  \n",
      "---  ------       --------------  -----  \n",
      " 0   Id           160 non-null    int64  \n",
      " 1   Age          160 non-null    int64  \n",
      " 2   Sex          160 non-null    object \n",
      " 3   BP           160 non-null    object \n",
      " 4   Cholesterol  160 non-null    object \n",
      " 5   Na_to_K      160 non-null    float64\n",
      " 6   Drug         160 non-null    object \n",
      "dtypes: float64(1), int64(2), object(4)\n",
      "memory usage: 8.9+ KB\n"
     ]
    }
   ],
   "source": [
    "drug.info()"
   ]
  },
  {
   "cell_type": "code",
   "execution_count": 66,
   "metadata": {},
   "outputs": [
    {
     "data": {
      "text/html": [
       "<div>\n",
       "<style scoped>\n",
       "    .dataframe tbody tr th:only-of-type {\n",
       "        vertical-align: middle;\n",
       "    }\n",
       "\n",
       "    .dataframe tbody tr th {\n",
       "        vertical-align: top;\n",
       "    }\n",
       "\n",
       "    .dataframe thead th {\n",
       "        text-align: right;\n",
       "    }\n",
       "</style>\n",
       "<table border=\"1\" class=\"dataframe\">\n",
       "  <thead>\n",
       "    <tr style=\"text-align: right;\">\n",
       "      <th></th>\n",
       "      <th>Id</th>\n",
       "      <th>Age</th>\n",
       "      <th>Sex</th>\n",
       "      <th>BP</th>\n",
       "      <th>Cholesterol</th>\n",
       "      <th>Na_to_K</th>\n",
       "      <th>Drug</th>\n",
       "    </tr>\n",
       "  </thead>\n",
       "  <tbody>\n",
       "    <tr>\n",
       "      <th>count</th>\n",
       "      <td>160.000000</td>\n",
       "      <td>160.000000</td>\n",
       "      <td>160</td>\n",
       "      <td>160</td>\n",
       "      <td>160</td>\n",
       "      <td>160.000000</td>\n",
       "      <td>160</td>\n",
       "    </tr>\n",
       "    <tr>\n",
       "      <th>unique</th>\n",
       "      <td>NaN</td>\n",
       "      <td>NaN</td>\n",
       "      <td>2</td>\n",
       "      <td>3</td>\n",
       "      <td>2</td>\n",
       "      <td>NaN</td>\n",
       "      <td>5</td>\n",
       "    </tr>\n",
       "    <tr>\n",
       "      <th>top</th>\n",
       "      <td>NaN</td>\n",
       "      <td>NaN</td>\n",
       "      <td>M</td>\n",
       "      <td>HIGH</td>\n",
       "      <td>HIGH</td>\n",
       "      <td>NaN</td>\n",
       "      <td>DrugY</td>\n",
       "    </tr>\n",
       "    <tr>\n",
       "      <th>freq</th>\n",
       "      <td>NaN</td>\n",
       "      <td>NaN</td>\n",
       "      <td>83</td>\n",
       "      <td>62</td>\n",
       "      <td>88</td>\n",
       "      <td>NaN</td>\n",
       "      <td>76</td>\n",
       "    </tr>\n",
       "    <tr>\n",
       "      <th>mean</th>\n",
       "      <td>99.075000</td>\n",
       "      <td>45.387500</td>\n",
       "      <td>NaN</td>\n",
       "      <td>NaN</td>\n",
       "      <td>NaN</td>\n",
       "      <td>16.194988</td>\n",
       "      <td>NaN</td>\n",
       "    </tr>\n",
       "    <tr>\n",
       "      <th>std</th>\n",
       "      <td>59.374894</td>\n",
       "      <td>16.101481</td>\n",
       "      <td>NaN</td>\n",
       "      <td>NaN</td>\n",
       "      <td>NaN</td>\n",
       "      <td>7.254689</td>\n",
       "      <td>NaN</td>\n",
       "    </tr>\n",
       "    <tr>\n",
       "      <th>min</th>\n",
       "      <td>0.000000</td>\n",
       "      <td>15.000000</td>\n",
       "      <td>NaN</td>\n",
       "      <td>NaN</td>\n",
       "      <td>NaN</td>\n",
       "      <td>6.269000</td>\n",
       "      <td>NaN</td>\n",
       "    </tr>\n",
       "    <tr>\n",
       "      <th>25%</th>\n",
       "      <td>45.500000</td>\n",
       "      <td>32.000000</td>\n",
       "      <td>NaN</td>\n",
       "      <td>NaN</td>\n",
       "      <td>NaN</td>\n",
       "      <td>10.445250</td>\n",
       "      <td>NaN</td>\n",
       "    </tr>\n",
       "    <tr>\n",
       "      <th>50%</th>\n",
       "      <td>100.500000</td>\n",
       "      <td>46.000000</td>\n",
       "      <td>NaN</td>\n",
       "      <td>NaN</td>\n",
       "      <td>NaN</td>\n",
       "      <td>14.076500</td>\n",
       "      <td>NaN</td>\n",
       "    </tr>\n",
       "    <tr>\n",
       "      <th>75%</th>\n",
       "      <td>149.500000</td>\n",
       "      <td>58.250000</td>\n",
       "      <td>NaN</td>\n",
       "      <td>NaN</td>\n",
       "      <td>NaN</td>\n",
       "      <td>19.480750</td>\n",
       "      <td>NaN</td>\n",
       "    </tr>\n",
       "    <tr>\n",
       "      <th>max</th>\n",
       "      <td>199.000000</td>\n",
       "      <td>74.000000</td>\n",
       "      <td>NaN</td>\n",
       "      <td>NaN</td>\n",
       "      <td>NaN</td>\n",
       "      <td>38.247000</td>\n",
       "      <td>NaN</td>\n",
       "    </tr>\n",
       "  </tbody>\n",
       "</table>\n",
       "</div>"
      ],
      "text/plain": [
       "                Id         Age  Sex    BP Cholesterol     Na_to_K   Drug\n",
       "count   160.000000  160.000000  160   160         160  160.000000    160\n",
       "unique         NaN         NaN    2     3           2         NaN      5\n",
       "top            NaN         NaN    M  HIGH        HIGH         NaN  DrugY\n",
       "freq           NaN         NaN   83    62          88         NaN     76\n",
       "mean     99.075000   45.387500  NaN   NaN         NaN   16.194988    NaN\n",
       "std      59.374894   16.101481  NaN   NaN         NaN    7.254689    NaN\n",
       "min       0.000000   15.000000  NaN   NaN         NaN    6.269000    NaN\n",
       "25%      45.500000   32.000000  NaN   NaN         NaN   10.445250    NaN\n",
       "50%     100.500000   46.000000  NaN   NaN         NaN   14.076500    NaN\n",
       "75%     149.500000   58.250000  NaN   NaN         NaN   19.480750    NaN\n",
       "max     199.000000   74.000000  NaN   NaN         NaN   38.247000    NaN"
      ]
     },
     "execution_count": 66,
     "metadata": {},
     "output_type": "execute_result"
    }
   ],
   "source": [
    "drug.describe(include='all')"
   ]
  },
  {
   "cell_type": "code",
   "execution_count": 67,
   "metadata": {},
   "outputs": [
    {
     "data": {
      "text/plain": [
       "<AxesSubplot:>"
      ]
     },
     "execution_count": 67,
     "metadata": {},
     "output_type": "execute_result"
    },
    {
     "data": {
      "image/png": "[encoded data removed]",
      "text/plain": [
       "<Figure size 576x144 with 1 Axes>"
      ]
     },
     "metadata": {},
     "output_type": "display_data"
    }
   ],
   "source": [
    "drug['BP'].value_counts().plot.bar(figsize=(8,2), colormap='Dark2', fontsize=13)"
   ]
  },
  {
   "cell_type": "code",
   "execution_count": 68,
   "metadata": {},
   "outputs": [
    {
     "data": {
      "text/plain": [
       "<AxesSubplot:>"
      ]
     },
     "execution_count": 68,
     "metadata": {},
     "output_type": "execute_result"
    },
    {
     "data": {
      "image/png": "[encoded data removed]",
      "text/plain": [
       "<Figure size 576x144 with 1 Axes>"
      ]
     },
     "metadata": {},
     "output_type": "display_data"
    }
   ],
   "source": [
    "drug['Cholesterol'].value_counts().plot.bar(figsize=(8,2), colormap='Dark2', fontsize=13)"
   ]
  },
  {
   "cell_type": "code",
   "execution_count": 69,
   "metadata": {},
   "outputs": [
    {
     "data": {
      "text/plain": [
       "<AxesSubplot:>"
      ]
     },
     "execution_count": 69,
     "metadata": {},
     "output_type": "execute_result"
    },
    {
     "data": {
      "image/png": "[encoded data removed]",
      "text/plain": [
       "<Figure size 576x144 with 1 Axes>"
      ]
     },
     "metadata": {},
     "output_type": "display_data"
    }
   ],
   "source": [
    "drug['Sex'].value_counts().plot.bar(figsize=(8,2), colormap='Dark2', fontsize=13)"
   ]
  },
  {
   "cell_type": "code",
   "execution_count": 70,
   "metadata": {},
   "outputs": [
    {
     "data": {
      "text/plain": [
       "Text(0.5, 1.0, 'Age Group vs Treatment')"
      ]
     },
     "execution_count": 70,
     "metadata": {},
     "output_type": "execute_result"
    },
    {
     "data": {
      "image/png": "[encoded data removed]",
      "text/plain": [
       "<Figure size 576x432 with 1 Axes>"
      ]
     },
     "metadata": {
      "needs_background": "light"
     },
     "output_type": "display_data"
    }
   ],
   "source": [
    "import matplotlib.pyplot as plt\n",
    "import seaborn as sns\n",
    "from matplotlib.pyplot import pie, axis, show\n",
    "%matplotlib inline    \n",
    "fig,ax =plt.subplots(figsize=(8,6))\n",
    "sns.countplot(data = drug,x = 'BP', hue='Drug')\n",
    "plt.title('Age Group vs Treatment')"
   ]
  },
  {
   "cell_type": "code",
   "execution_count": 71,
   "metadata": {},
   "outputs": [
    {
     "data": {
      "text/plain": [
       "Text(0.5, 1.0, 'Age Group vs Treatment')"
      ]
     },
     "execution_count": 71,
     "metadata": {},
     "output_type": "execute_result"
    },
    {
     "data": {
      "image/png": "[encoded data removed]",
      "text/plain": [
       "<Figure size 576x432 with 1 Axes>"
      ]
     },
     "metadata": {
      "needs_background": "light"
     },
     "output_type": "display_data"
    }
   ],
   "source": [
    "import matplotlib.pyplot as plt\n",
    "import seaborn as sns\n",
    "from matplotlib.pyplot import pie, axis, show\n",
    "%matplotlib inline    \n",
    "fig,ax =plt.subplots(figsize=(8,6))\n",
    "sns.countplot(data = drug,x = 'Cholesterol', hue='Drug')\n",
    "plt.title('Age Group vs Treatment')"
   ]
  },
  {
   "cell_type": "code",
   "execution_count": 74,
   "metadata": {},
   "outputs": [],
   "source": [
    "def encoding(drug):\n",
    "    cat_columns=['BP','Sex','Cholesterol']\n",
    "    cat_dum=pd.get_dummies(drug[cat_columns],drop_first=True)\n",
    "    drug=pd.concat([drug,cat_dum],axis=1)\n",
    "    return drug\n",
    "drug=encoding(drug)"
   ]
  },
  {
   "cell_type": "code",
   "execution_count": 75,
   "metadata": {},
   "outputs": [
    {
     "data": {
      "text/html": [
       "<div>\n",
       "<style scoped>\n",
       "    .dataframe tbody tr th:only-of-type {\n",
       "        vertical-align: middle;\n",
       "    }\n",
       "\n",
       "    .dataframe tbody tr th {\n",
       "        vertical-align: top;\n",
       "    }\n",
       "\n",
       "    .dataframe thead th {\n",
       "        text-align: right;\n",
       "    }\n",
       "</style>\n",
       "<table border=\"1\" class=\"dataframe\">\n",
       "  <thead>\n",
       "    <tr style=\"text-align: right;\">\n",
       "      <th></th>\n",
       "      <th>Id</th>\n",
       "      <th>Age</th>\n",
       "      <th>Sex</th>\n",
       "      <th>BP</th>\n",
       "      <th>Cholesterol</th>\n",
       "      <th>Na_to_K</th>\n",
       "      <th>Drug</th>\n",
       "      <th>BP_LOW</th>\n",
       "      <th>BP_NORMAL</th>\n",
       "      <th>Sex_M</th>\n",
       "      <th>Cholesterol_NORMAL</th>\n",
       "    </tr>\n",
       "  </thead>\n",
       "  <tbody>\n",
       "    <tr>\n",
       "      <th>0</th>\n",
       "      <td>79</td>\n",
       "      <td>32</td>\n",
       "      <td>F</td>\n",
       "      <td>LOW</td>\n",
       "      <td>NORMAL</td>\n",
       "      <td>10.840</td>\n",
       "      <td>drugX</td>\n",
       "      <td>1</td>\n",
       "      <td>0</td>\n",
       "      <td>0</td>\n",
       "      <td>1</td>\n",
       "    </tr>\n",
       "    <tr>\n",
       "      <th>1</th>\n",
       "      <td>197</td>\n",
       "      <td>52</td>\n",
       "      <td>M</td>\n",
       "      <td>NORMAL</td>\n",
       "      <td>HIGH</td>\n",
       "      <td>9.894</td>\n",
       "      <td>drugX</td>\n",
       "      <td>0</td>\n",
       "      <td>1</td>\n",
       "      <td>1</td>\n",
       "      <td>0</td>\n",
       "    </tr>\n",
       "    <tr>\n",
       "      <th>2</th>\n",
       "      <td>38</td>\n",
       "      <td>39</td>\n",
       "      <td>F</td>\n",
       "      <td>NORMAL</td>\n",
       "      <td>NORMAL</td>\n",
       "      <td>9.709</td>\n",
       "      <td>drugX</td>\n",
       "      <td>0</td>\n",
       "      <td>1</td>\n",
       "      <td>0</td>\n",
       "      <td>1</td>\n",
       "    </tr>\n",
       "    <tr>\n",
       "      <th>3</th>\n",
       "      <td>24</td>\n",
       "      <td>33</td>\n",
       "      <td>F</td>\n",
       "      <td>LOW</td>\n",
       "      <td>HIGH</td>\n",
       "      <td>33.486</td>\n",
       "      <td>DrugY</td>\n",
       "      <td>1</td>\n",
       "      <td>0</td>\n",
       "      <td>0</td>\n",
       "      <td>0</td>\n",
       "    </tr>\n",
       "    <tr>\n",
       "      <th>4</th>\n",
       "      <td>122</td>\n",
       "      <td>34</td>\n",
       "      <td>M</td>\n",
       "      <td>NORMAL</td>\n",
       "      <td>HIGH</td>\n",
       "      <td>22.456</td>\n",
       "      <td>DrugY</td>\n",
       "      <td>0</td>\n",
       "      <td>1</td>\n",
       "      <td>1</td>\n",
       "      <td>0</td>\n",
       "    </tr>\n",
       "  </tbody>\n",
       "</table>\n",
       "</div>"
      ],
      "text/plain": [
       "    Id  Age Sex      BP Cholesterol  Na_to_K   Drug  BP_LOW  BP_NORMAL  Sex_M  \\\n",
       "0   79   32   F     LOW      NORMAL   10.840  drugX       1          0      0   \n",
       "1  197   52   M  NORMAL        HIGH    9.894  drugX       0          1      1   \n",
       "2   38   39   F  NORMAL      NORMAL    9.709  drugX       0          1      0   \n",
       "3   24   33   F     LOW        HIGH   33.486  DrugY       1          0      0   \n",
       "4  122   34   M  NORMAL        HIGH   22.456  DrugY       0          1      1   \n",
       "\n",
       "   Cholesterol_NORMAL  \n",
       "0                   1  \n",
       "1                   0  \n",
       "2                   1  \n",
       "3                   0  \n",
       "4                   0  "
      ]
     },
     "execution_count": 75,
     "metadata": {},
     "output_type": "execute_result"
    }
   ],
   "source": [
    "drug.head()"
   ]
  },
  {
   "cell_type": "code",
   "execution_count": 76,
   "metadata": {},
   "outputs": [],
   "source": [
    "drug.drop(['BP','Cholesterol','Sex'],axis=1,inplace=True)"
   ]
  },
  {
   "cell_type": "code",
   "execution_count": null,
   "metadata": {},
   "outputs": [],
   "source": []
  },
  {
   "cell_type": "code",
   "execution_count": 77,
   "metadata": {},
   "outputs": [
    {
     "data": {
      "text/html": [
       "<div>\n",
       "<style scoped>\n",
       "    .dataframe tbody tr th:only-of-type {\n",
       "        vertical-align: middle;\n",
       "    }\n",
       "\n",
       "    .dataframe tbody tr th {\n",
       "        vertical-align: top;\n",
       "    }\n",
       "\n",
       "    .dataframe thead th {\n",
       "        text-align: right;\n",
       "    }\n",
       "</style>\n",
       "<table border=\"1\" class=\"dataframe\">\n",
       "  <thead>\n",
       "    <tr style=\"text-align: right;\">\n",
       "      <th></th>\n",
       "      <th>Id</th>\n",
       "      <th>Age</th>\n",
       "      <th>Na_to_K</th>\n",
       "      <th>Drug</th>\n",
       "      <th>BP_LOW</th>\n",
       "      <th>BP_NORMAL</th>\n",
       "      <th>Sex_M</th>\n",
       "      <th>Cholesterol_NORMAL</th>\n",
       "    </tr>\n",
       "  </thead>\n",
       "  <tbody>\n",
       "    <tr>\n",
       "      <th>0</th>\n",
       "      <td>79</td>\n",
       "      <td>32</td>\n",
       "      <td>10.840</td>\n",
       "      <td>drugX</td>\n",
       "      <td>1</td>\n",
       "      <td>0</td>\n",
       "      <td>0</td>\n",
       "      <td>1</td>\n",
       "    </tr>\n",
       "    <tr>\n",
       "      <th>1</th>\n",
       "      <td>197</td>\n",
       "      <td>52</td>\n",
       "      <td>9.894</td>\n",
       "      <td>drugX</td>\n",
       "      <td>0</td>\n",
       "      <td>1</td>\n",
       "      <td>1</td>\n",
       "      <td>0</td>\n",
       "    </tr>\n",
       "    <tr>\n",
       "      <th>2</th>\n",
       "      <td>38</td>\n",
       "      <td>39</td>\n",
       "      <td>9.709</td>\n",
       "      <td>drugX</td>\n",
       "      <td>0</td>\n",
       "      <td>1</td>\n",
       "      <td>0</td>\n",
       "      <td>1</td>\n",
       "    </tr>\n",
       "    <tr>\n",
       "      <th>3</th>\n",
       "      <td>24</td>\n",
       "      <td>33</td>\n",
       "      <td>33.486</td>\n",
       "      <td>DrugY</td>\n",
       "      <td>1</td>\n",
       "      <td>0</td>\n",
       "      <td>0</td>\n",
       "      <td>0</td>\n",
       "    </tr>\n",
       "    <tr>\n",
       "      <th>4</th>\n",
       "      <td>122</td>\n",
       "      <td>34</td>\n",
       "      <td>22.456</td>\n",
       "      <td>DrugY</td>\n",
       "      <td>0</td>\n",
       "      <td>1</td>\n",
       "      <td>1</td>\n",
       "      <td>0</td>\n",
       "    </tr>\n",
       "  </tbody>\n",
       "</table>\n",
       "</div>"
      ],
      "text/plain": [
       "    Id  Age  Na_to_K   Drug  BP_LOW  BP_NORMAL  Sex_M  Cholesterol_NORMAL\n",
       "0   79   32   10.840  drugX       1          0      0                   1\n",
       "1  197   52    9.894  drugX       0          1      1                   0\n",
       "2   38   39    9.709  drugX       0          1      0                   1\n",
       "3   24   33   33.486  DrugY       1          0      0                   0\n",
       "4  122   34   22.456  DrugY       0          1      1                   0"
      ]
     },
     "execution_count": 77,
     "metadata": {},
     "output_type": "execute_result"
    }
   ],
   "source": [
    "drug.head()"
   ]
  },
  {
   "cell_type": "code",
   "execution_count": 78,
   "metadata": {},
   "outputs": [],
   "source": [
    "drug_new=drug\n",
    "drug_new.drop('Id',axis=1,inplace=True)"
   ]
  },
  {
   "cell_type": "code",
   "execution_count": 79,
   "metadata": {},
   "outputs": [],
   "source": [
    "X=drug_new.drop('Drug', axis = 1)\n",
    "y=drug_new.Drug"
   ]
  },
  {
   "cell_type": "code",
   "execution_count": 80,
   "metadata": {},
   "outputs": [],
   "source": [
    "from sklearn.model_selection import train_test_split\n",
    "X_train, X_test, y_train, y_test = train_test_split(X, y, test_size=0.2)"
   ]
  },
  {
   "cell_type": "code",
   "execution_count": null,
   "metadata": {},
   "outputs": [],
   "source": []
  },
  {
   "cell_type": "code",
   "execution_count": 81,
   "metadata": {},
   "outputs": [],
   "source": [
    "from sklearn.preprocessing import RobustScaler\n",
    "robust = RobustScaler()\n",
    "X_train = robust.fit_transform(X_train)\n",
    "X_test = robust.transform(X_test)"
   ]
  },
  {
   "cell_type": "code",
   "execution_count": 85,
   "metadata": {},
   "outputs": [
    {
     "name": "stdout",
     "output_type": "stream",
     "text": [
      "Testing Accuracy\n",
      "0.8125\n",
      "Training Accuracy\n",
      "0.7734375\n",
      "\n",
      "Average Accuracy\n",
      "0.7705128205128206\n"
     ]
    }
   ],
   "source": [
    "from sklearn.naive_bayes import GaussianNB  \n",
    "X_train, X_test, y_train, y_test = train_test_split(X, y, test_size=0.20,random_state=10)\n",
    "pipeNB = Pipeline((\n",
    "(\"sc\",RobustScaler()),    \n",
    "(\"Naive\",GaussianNB()) ,    \n",
    "))\n",
    "pipeNB.fit(X_train,y_train)\n",
    "print(\"Testing Accuracy\")\n",
    "print(pipeNB.score(X_test,y_test))\n",
    "print(\"Training Accuracy\")\n",
    "print(pipeNB.score(X_train,y_train))\n",
    "from sklearn.model_selection import cross_val_score\n",
    "scoresknn = cross_val_score(pipeNB, X_train, y_train, cv=10,scoring='accuracy')\n",
    "print()\n",
    "print(\"Average Accuracy\")\n",
    "print(np.mean(scoresknn))"
   ]
  },
  {
   "cell_type": "code",
   "execution_count": 86,
   "metadata": {},
   "outputs": [
    {
     "name": "stdout",
     "output_type": "stream",
     "text": [
      "Testing Accuracy\n",
      "0.8125\n",
      "Training Accuracy\n",
      "0.7890625\n",
      "\n",
      "Average Accuracy\n",
      "0.7865384615384615\n"
     ]
    }
   ],
   "source": [
    "#Naive aise with out scaling\n",
    "from sklearn.naive_bayes import GaussianNB  \n",
    "X_train, X_test, y_train, y_test = train_test_split(X, y, test_size=0.20,random_state=10)\n",
    "pipeNBS = Pipeline((    \n",
    "(\"Naive\",GaussianNB()) ,    \n",
    "))\n",
    "pipeNBS.fit(X_train,y_train)\n",
    "print(\"Testing Accuracy\")\n",
    "print(pipeNBS.score(X_test,y_test))\n",
    "print(\"Training Accuracy\")\n",
    "print(pipeNBS.score(X_train,y_train))\n",
    "from sklearn.model_selection import cross_val_score\n",
    "scoresknn = cross_val_score(pipeNBS, X_train, y_train, cv=10,scoring='accuracy')\n",
    "print()\n",
    "print(\"Average Accuracy\")\n",
    "print(np.mean(scoresknn))"
   ]
  },
  {
   "cell_type": "code",
   "execution_count": 87,
   "metadata": {},
   "outputs": [
    {
     "name": "stdout",
     "output_type": "stream",
     "text": [
      "Testing Accuracy\n",
      "1.0\n",
      "Training Accuracy\n",
      "1.0\n",
      "\n",
      "Average Accuracy\n",
      "0.9839743589743589\n"
     ]
    }
   ],
   "source": [
    "from sklearn.naive_bayes import GaussianNB  \n",
    "X_train, X_test, y_train, y_test = train_test_split(X, y, test_size=0.20,random_state=10)\n",
    "pipeDT = Pipeline(( \n",
    "(\"DT\",DecisionTreeClassifier(random_state = 42, max_depth = 5)) ,    \n",
    "))\n",
    "pipeDT.fit(X_train,y_train)\n",
    "print(\"Testing Accuracy\")\n",
    "print(pipeDT.score(X_test,y_test))\n",
    "print(\"Training Accuracy\")\n",
    "print(pipeDT.score(X_train,y_train))\n",
    "from sklearn.model_selection import cross_val_score\n",
    "scoresknn = cross_val_score(pipeDT, X_train, y_train, cv=10,scoring='accuracy')\n",
    "print()\n",
    "print(\"Average Accuracy\")\n",
    "print(np.mean(scoresknn))"
   ]
  },
  {
   "cell_type": "code",
   "execution_count": 88,
   "metadata": {},
   "outputs": [
    {
     "name": "stdout",
     "output_type": "stream",
     "text": [
      "Testing Accuracy\n",
      "1.0\n",
      "Training Accuracy\n",
      "1.0\n",
      "\n",
      "Average Accuracy\n",
      "0.9839743589743589\n"
     ]
    }
   ],
   "source": [
    "#random forest\n",
    "X_train, X_test, y_train, y_test = train_test_split(X, y, test_size=0.20,random_state=10)\n",
    "pipeRF = Pipeline(( \n",
    "(\"RF\",RandomForestClassifier(random_state = 42, max_depth = 5)) ,    \n",
    "))\n",
    "pipeRF.fit(X_train,y_train)\n",
    "print(\"Testing Accuracy\")\n",
    "print(pipeRF.score(X_test,y_test))\n",
    "print(\"Training Accuracy\")\n",
    "print(pipeRF.score(X_train,y_train))\n",
    "from sklearn.model_selection import cross_val_score\n",
    "scoresknn = cross_val_score(pipeRF, X_train, y_train, cv=10,scoring='accuracy')\n",
    "print()\n",
    "print(\"Average Accuracy\")\n",
    "print(np.mean(scoresknn))"
   ]
  },
  {
   "cell_type": "code",
   "execution_count": 89,
   "metadata": {},
   "outputs": [
    {
     "name": "stdout",
     "output_type": "stream",
     "text": [
      "Testing Accuracy\n",
      "1.0\n",
      "Training Accuracy\n",
      "1.0\n",
      "\n",
      "Average Accuracy\n",
      "0.9839743589743589\n"
     ]
    }
   ],
   "source": [
    "from sklearn.naive_bayes import GaussianNB  \n",
    "X_train, X_test, y_train, y_test = train_test_split(X, y, test_size=0.20,random_state=10)\n",
    "pipe = Pipeline(( \n",
    "(\"DT\",DecisionTreeClassifier(random_state = 42, max_depth = 5)) ,    \n",
    "))\n",
    "pipe.fit(X_train,y_train)\n",
    "print(\"Testing Accuracy\")\n",
    "print(pipe.score(X_test,y_test))\n",
    "print(\"Training Accuracy\")\n",
    "print(pipe.score(X_train,y_train))\n",
    "from sklearn.model_selection import cross_val_score\n",
    "scoresknn = cross_val_score(pipe, X_train, y_train, cv=10,scoring='accuracy')\n",
    "print()\n",
    "print(\"Average Accuracy\")\n",
    "print(np.mean(scoresknn))"
   ]
  },
  {
   "cell_type": "code",
   "execution_count": 90,
   "metadata": {},
   "outputs": [],
   "source": [
    "!pip install -q yellowbrick "
   ]
  },
  {
   "cell_type": "code",
   "execution_count": 51,
   "metadata": {},
   "outputs": [],
   "source": [
    "from yellowbrick.classifier import PrecisionRecallCurve\n",
    "def PRCurve(model):\n",
    "  '''\n",
    "  A function to compute Precision Recall Curve\n",
    "  Data to fit must be training i.e. X_train, y_train\n",
    "  Data score will be estimated on X_test, y_test\n",
    "  '''\n",
    "  viz = PrecisionRecallCurve(model)\n",
    "  viz.fit(X_train, y_train)\n",
    "  avg_prec = viz.score(X_test, y_test)\n",
    "  plt.legend(labels = ['Binary PR Curve',\"AP=%.3f\"%avg_prec], loc = 'lower right', prop={'size': 14})\n",
    "  plt.xlabel(xlabel = 'Recall', size = 14)\n",
    "  plt.ylabel(ylabel = 'Precision', size = 14)\n",
    "  plt.title(label = 'Precision Recall Curve', size = 16)"
   ]
  },
  {
   "cell_type": "code",
   "execution_count": 99,
   "metadata": {},
   "outputs": [
    {
     "name": "stdout",
     "output_type": "stream",
     "text": [
      "Testing Accuracy\n",
      "0.9375\n",
      "Training Accuracy\n",
      "0.9296875\n",
      "\n",
      "Average Accuracy\n",
      "0.8583333333333334\n"
     ]
    }
   ],
   "source": [
    "#With Pipeline\n",
    "from sklearn.pipeline import Pipeline\n",
    "from sklearn.experimental import enable_iterative_imputer\n",
    "from sklearn.impute import IterativeImputer\n",
    "from sklearn.preprocessing import PowerTransformer,StandardScaler\n",
    "from sklearn.neighbors import KNeighborsClassifier\n",
    "from sklearn.model_selection import train_test_split\n",
    "import numpy as np\n",
    "X_train, X_test, y_train, y_test = train_test_split(X, y, test_size=0.20,random_state=10)\n",
    "pipe = Pipeline((\n",
    "(\"sc\",RobustScaler()),    \n",
    "(\"knn\",KNeighborsClassifier(n_neighbors=10)) ,    \n",
    "))\n",
    "pipe.fit(X_train,y_train)\n",
    "print(\"Testing Accuracy\")\n",
    "print(pipe.score(X_test,y_test))\n",
    "print(\"Training Accuracy\")\n",
    "print(pipe.score(X_train,y_train))\n",
    "from sklearn.model_selection import cross_val_score\n",
    "scoresknn = cross_val_score(pipe, X_train, y_train, cv=10,scoring='accuracy')\n",
    "print()\n",
    "print(\"Average Accuracy\")\n",
    "print(np.mean(scoresknn))"
   ]
  },
  {
   "cell_type": "code",
   "execution_count": 100,
   "metadata": {},
   "outputs": [],
   "source": [
    "drug_test=pd.read_csv('drug_test.csv')"
   ]
  },
  {
   "cell_type": "code",
   "execution_count": 101,
   "metadata": {},
   "outputs": [],
   "source": [
    "def encoding(drug_test):\n",
    "    cat_columns=['BP','Sex','Cholesterol']\n",
    "    cat_dum=pd.get_dummies(drug_test[cat_columns],drop_first=True)\n",
    "    drug_test=pd.concat([drug_test,cat_dum],axis=1)\n",
    "    return drug_test\n",
    "drug_test=encoding(drug_test)"
   ]
  },
  {
   "cell_type": "code",
   "execution_count": 102,
   "metadata": {},
   "outputs": [],
   "source": [
    "drug_test.drop(['BP','Cholesterol','Sex'],axis=1,inplace=True)"
   ]
  },
  {
   "cell_type": "code",
   "execution_count": 103,
   "metadata": {},
   "outputs": [],
   "source": [
    "drug_new1=drug_test\n",
    "drug_new1.drop('Id',axis=1,inplace=True)"
   ]
  },
  {
   "cell_type": "code",
   "execution_count": 105,
   "metadata": {},
   "outputs": [],
   "source": [
    "y_pred=pipe.predict(drug_new1)"
   ]
  },
  {
   "cell_type": "code",
   "execution_count": 109,
   "metadata": {},
   "outputs": [],
   "source": [
    "drug_test1=pd.read_csv('drug_test.csv')"
   ]
  },
  {
   "cell_type": "code",
   "execution_count": 110,
   "metadata": {},
   "outputs": [],
   "source": [
    "df3 = pd.DataFrame({\"Id\":drug_test1.Id,\"Drug\":y_pred})"
   ]
  },
  {
   "cell_type": "code",
   "execution_count": 111,
   "metadata": {},
   "outputs": [
    {
     "data": {
      "text/plain": [
       "DrugY    18\n",
       "drugX     8\n",
       "drugA     6\n",
       "drugC     5\n",
       "drugB     3\n",
       "Name: Drug, dtype: int64"
      ]
     },
     "execution_count": 111,
     "metadata": {},
     "output_type": "execute_result"
    }
   ],
   "source": [
    "df3.Drug.value_counts()"
   ]
  },
  {
   "cell_type": "code",
   "execution_count": 112,
   "metadata": {},
   "outputs": [],
   "source": [
    "df3.to_csv('Drug_prediction_output.csv',index=False, header=False)"
   ]
  },
  {
   "cell_type": "code",
   "execution_count": null,
   "metadata": {},
   "outputs": [],
   "source": []
  }
 ],
 "metadata": {
  "kernelspec": {
   "display_name": "Python 3",
   "language": "python",
   "name": "python3"
  },
  "language_info": {
   "codemirror_mode": {
    "name": "ipython",
    "version": 3
   },
   "file_extension": ".py",
   "mimetype": "text/x-python",
   "name": "python",
   "nbconvert_exporter": "python",
   "pygments_lexer": "ipython3",
   "version": "3.8.5"
  }
 },
 "nbformat": 4,
 "nbformat_minor": 4
}
